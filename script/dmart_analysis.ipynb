{
 "cells": [
  {
   "cell_type": "code",
   "execution_count": 0,
   "metadata": {
    "application/vnd.databricks.v1+cell": {
     "cellMetadata": {
      "byteLimit": 2048000,
      "rowLimit": 10000
     },
     "inputWidgets": {},
     "nuid": "30bf091d-371e-4953-8c6c-1680cd5ec8b9",
     "showTitle": false,
     "tableResultSettingsMap": {},
     "title": ""
    }
   },
   "outputs": [],
   "source": [
    "\n",
    "# Import SparkSession\n",
    "from pyspark.sql import SparkSession\n",
    "\n",
    "# Create SparkSession \n",
    "spark = SparkSession.builder \\\n",
    "      .master(\"local[1]\") \\\n",
    "      .appName(\"Sales Data Analysis\") \\\n",
    "      .getOrCreate() \n"
   ]
  },
  {
   "cell_type": "code",
   "execution_count": 0,
   "metadata": {
    "application/vnd.databricks.v1+cell": {
     "cellMetadata": {
      "byteLimit": 2048000,
      "rowLimit": 10000
     },
     "inputWidgets": {},
     "nuid": "ba8f2a4c-b9aa-4e8a-ab8c-4a19409367b4",
     "showTitle": false,
     "tableResultSettingsMap": {},
     "title": ""
    }
   },
   "outputs": [],
   "source": [
    "df_sales = spark.read.csv(\"/FileStore/tables/Sales.csv\", header=True, inferSchema=True)\n",
    "df_product = spark.read.csv(\"/FileStore/tables/Product.csv\", header=True, inferSchema=True)\n",
    "df_customer = spark.read.csv(\"/FileStore/tables/Customer.csv\", header=True, inferSchema=True)"
   ]
  },
  {
   "cell_type": "code",
   "execution_count": 0,
   "metadata": {
    "application/vnd.databricks.v1+cell": {
     "cellMetadata": {
      "byteLimit": 2048000,
      "rowLimit": 10000
     },
     "inputWidgets": {},
     "nuid": "ebd69667-46d0-4ecd-a7f2-e7c3623d6361",
     "showTitle": false,
     "tableResultSettingsMap": {},
     "title": ""
    }
   },
   "outputs": [
    {
     "name": "stdout",
     "output_type": "stream",
     "text": [
      "root\n",
      " |-- Order Line: integer (nullable = true)\n",
      " |-- Order ID: string (nullable = true)\n",
      " |-- Order Date: date (nullable = true)\n",
      " |-- Ship Date: date (nullable = true)\n",
      " |-- Ship Mode: string (nullable = true)\n",
      " |-- Customer ID: string (nullable = true)\n",
      " |-- Product ID: string (nullable = true)\n",
      " |-- Sales: double (nullable = true)\n",
      " |-- Quantity: integer (nullable = true)\n",
      " |-- Discount: double (nullable = true)\n",
      " |-- Profit: double (nullable = true)\n",
      "\n",
      "root\n",
      " |-- Product ID: string (nullable = true)\n",
      " |-- Category: string (nullable = true)\n",
      " |-- Sub-Category: string (nullable = true)\n",
      " |-- Product Name: string (nullable = true)\n",
      "\n",
      "root\n",
      " |-- Customer ID: string (nullable = true)\n",
      " |-- Customer Name: string (nullable = true)\n",
      " |-- Segment: string (nullable = true)\n",
      " |-- Age: integer (nullable = true)\n",
      " |-- Country: string (nullable = true)\n",
      " |-- City: string (nullable = true)\n",
      " |-- State: string (nullable = true)\n",
      " |-- Postal Code: integer (nullable = true)\n",
      " |-- Region: string (nullable = true)\n",
      "\n",
      "+----------+--------------+----------+----------+--------------+-----------+---------------+--------+--------+--------+--------+\n",
      "|Order Line|      Order ID|Order Date| Ship Date|     Ship Mode|Customer ID|     Product ID|   Sales|Quantity|Discount|  Profit|\n",
      "+----------+--------------+----------+----------+--------------+-----------+---------------+--------+--------+--------+--------+\n",
      "|         1|CA-2016-152156|2016-11-08|2016-11-11|  Second Class|   CG-12520|FUR-BO-10001798|  261.96|       2|     0.0| 41.9136|\n",
      "|         2|CA-2016-152156|2016-11-08|2016-11-11|  Second Class|   CG-12520|FUR-CH-10000454|  731.94|       3|     0.0| 219.582|\n",
      "|         3|CA-2016-138688|2016-06-12|2016-06-16|  Second Class|   DV-13045|OFF-LA-10000240|   14.62|       2|     0.0|  6.8714|\n",
      "|         4|US-2015-108966|2015-10-11|2015-10-18|Standard Class|   SO-20335|FUR-TA-10000577|957.5775|       5|    0.45|-383.031|\n",
      "|         5|US-2015-108966|2015-10-11|2015-10-18|Standard Class|   SO-20335|OFF-ST-10000760|  22.368|       2|     0.2|  2.5164|\n",
      "+----------+--------------+----------+----------+--------------+-----------+---------------+--------+--------+--------+--------+\n",
      "only showing top 5 rows\n",
      "\n",
      "+---------------+---------------+------------+--------------------+\n",
      "|     Product ID|       Category|Sub-Category|        Product Name|\n",
      "+---------------+---------------+------------+--------------------+\n",
      "|FUR-BO-10001798|      Furniture|   Bookcases|Bush Somerset Col...|\n",
      "|FUR-CH-10000454|      Furniture|      Chairs|Hon Deluxe Fabric...|\n",
      "|OFF-LA-10000240|Office Supplies|      Labels|Self-Adhesive Add...|\n",
      "|FUR-TA-10000577|      Furniture|      Tables|Bretford CR4500 S...|\n",
      "|OFF-ST-10000760|Office Supplies|     Storage|Eldon Fold N Roll...|\n",
      "+---------------+---------------+------------+--------------------+\n",
      "only showing top 5 rows\n",
      "\n",
      "+-----------+---------------+---------+---+-------------+---------------+--------------+-----------+------+\n",
      "|Customer ID|  Customer Name|  Segment|Age|      Country|           City|         State|Postal Code|Region|\n",
      "+-----------+---------------+---------+---+-------------+---------------+--------------+-----------+------+\n",
      "|   CG-12520|    Claire Gute| Consumer| 67|United States|      Henderson|      Kentucky|      42420| South|\n",
      "|   DV-13045|Darrin Van Huff|Corporate| 31|United States|    Los Angeles|    California|      90036|  West|\n",
      "|   SO-20335| Sean O'Donnell| Consumer| 65|United States|Fort Lauderdale|       Florida|      33311| South|\n",
      "|   BH-11710|Brosina Hoffman| Consumer| 20|United States|    Los Angeles|    California|      90032|  West|\n",
      "|   AA-10480|   Andrew Allen| Consumer| 50|United States|        Concord|North Carolina|      28027| South|\n",
      "+-----------+---------------+---------+---+-------------+---------------+--------------+-----------+------+\n",
      "only showing top 5 rows\n",
      "\n"
     ]
    }
   ],
   "source": [
    "# Display schema of each DataFrame\n",
    "df_sales.printSchema()\n",
    "df_product.printSchema()\n",
    "df_customer.printSchema()\n",
    "\n",
    "# Show first few rows of each DataFrame\n",
    "df_sales.show(5)\n",
    "df_product.show(5)\n",
    "df_customer.show(5)"
   ]
  },
  {
   "cell_type": "code",
   "execution_count": 0,
   "metadata": {
    "application/vnd.databricks.v1+cell": {
     "cellMetadata": {
      "byteLimit": 2048000,
      "rowLimit": 10000
     },
     "inputWidgets": {},
     "nuid": "ba2022a8-4d52-4cd0-be14-02b38102ec7c",
     "showTitle": false,
     "tableResultSettingsMap": {},
     "title": ""
    }
   },
   "outputs": [
    {
     "name": "stdout",
     "output_type": "stream",
     "text": [
      "['product_id', 'category', 'sub-category', 'product_name']\n",
      "['order_line', 'order_id', 'order_date', 'ship_date', 'ship_mode', 'customer_id', 'product_id', 'sales', 'quantity', 'discount', 'profit']\n",
      "['customer_id', 'customer_name', 'segment', 'age', 'country', 'city', 'state', 'postal_code', 'region']\n"
     ]
    }
   ],
   "source": [
    "from pyspark.sql.functions import col\n",
    "\n",
    "def standardize_column_names(df):\n",
    "    \"\"\"\n",
    "    Standardizes column names by:\n",
    "    - Converting to lowercase\n",
    "    - Replacing spaces with underscores\n",
    "    - Removing special characters\n",
    "    \"\"\"\n",
    "    new_columns = [col(c).alias(c.lower().strip().replace(\" \", \"_\")) for c in df.columns]\n",
    "    return df.select(*new_columns)\n",
    "\n",
    "# Apply this function to all DataFrames\n",
    "df_products = standardize_column_names(df_product)\n",
    "df_sales = standardize_column_names(df_sales)\n",
    "df_customers = standardize_column_names(df_customer)\n",
    "\n",
    "# Verify the new column names\n",
    "print(df_products.columns)\n",
    "print(df_sales.columns)\n",
    "print(df_customers.columns)\n"
   ]
  },
  {
   "cell_type": "code",
   "execution_count": 0,
   "metadata": {
    "application/vnd.databricks.v1+cell": {
     "cellMetadata": {
      "byteLimit": 2048000,
      "rowLimit": 10000
     },
     "inputWidgets": {},
     "nuid": "7f97433a-d54c-4c0c-94e6-eeb4079590b5",
     "showTitle": false,
     "tableResultSettingsMap": {},
     "title": ""
    }
   },
   "outputs": [
    {
     "name": "stdout",
     "output_type": "stream",
     "text": [
      "+----------+--------+------------+------------+\n",
      "|product_id|category|sub-category|product_name|\n",
      "+----------+--------+------------+------------+\n",
      "|         0|       0|           0|           0|\n",
      "+----------+--------+------------+------------+\n",
      "\n",
      "+----------+--------+----------+---------+---------+-----------+----------+-----+--------+--------+------+\n",
      "|order_line|order_id|order_date|ship_date|ship_mode|customer_id|product_id|sales|quantity|discount|profit|\n",
      "+----------+--------+----------+---------+---------+-----------+----------+-----+--------+--------+------+\n",
      "|         0|       0|         0|        0|        0|          0|         0|    0|       0|       0|     0|\n",
      "+----------+--------+----------+---------+---------+-----------+----------+-----+--------+--------+------+\n",
      "\n",
      "+-----------+-------------+-------+---+-------+----+-----+-----------+------+\n",
      "|customer_id|customer_name|segment|age|country|city|state|postal_code|region|\n",
      "+-----------+-------------+-------+---+-------+----+-----+-----------+------+\n",
      "|          0|            0|      0|  0|      0|   0|    0|          0|     0|\n",
      "+-----------+-------------+-------+---+-------+----+-----+-----------+------+\n",
      "\n"
     ]
    }
   ],
   "source": [
    "from pyspark.sql.functions import col, sum\n",
    "\n",
    "def check_missing_values(df):\n",
    "    return df.select([sum(col(c).isNull().cast(\"int\")).alias(c) for c in df.columns])\n",
    "\n",
    "# Check missing values in each DataFrame\n",
    "check_missing_values(df_products).show()\n",
    "check_missing_values(df_sales).show()\n",
    "check_missing_values(df_customers).show()\n"
   ]
  },
  {
   "cell_type": "code",
   "execution_count": 0,
   "metadata": {
    "application/vnd.databricks.v1+cell": {
     "cellMetadata": {
      "byteLimit": 2048000,
      "rowLimit": 10000
     },
     "inputWidgets": {},
     "nuid": "db9ed407-dc11-47eb-a170-3c0f94a39570",
     "showTitle": false,
     "tableResultSettingsMap": {},
     "title": ""
    }
   },
   "outputs": [],
   "source": [
    "from pyspark.sql.types import IntegerType, FloatType, DateType\n",
    "from pyspark.sql.functions import to_date\n",
    "\n",
    "df_sale = df_sales.withColumn(\"order_line\", col(\"order_line\").cast(IntegerType())) \\\n",
    "                   .withColumn(\"order_date\", to_date(col(\"order_date\"), \"yyyy-MM-dd\"))\\\n",
    "\n",
    "# df_product = df_product.withColumn(\"price\", col(\"price\").cast(FloatType()))\n",
    "\n",
    "# df_customer = df_customer.withColumn(\"customer_id\", col(\"customer_id\").cast(IntegerType()))\n"
   ]
  },
  {
   "cell_type": "code",
   "execution_count": 0,
   "metadata": {
    "application/vnd.databricks.v1+cell": {
     "cellMetadata": {
      "byteLimit": 2048000,
      "rowLimit": 10000
     },
     "inputWidgets": {},
     "nuid": "4b8e7d92-8fc1-4074-8174-23734dab2cf1",
     "showTitle": false,
     "tableResultSettingsMap": {},
     "title": ""
    }
   },
   "outputs": [
    {
     "name": "stdout",
     "output_type": "stream",
     "text": [
      "+----------+--------------+----------+----------+--------------+-----------+---------------+--------+--------+--------+--------+\n",
      "|order_line|      order_id|order_date| ship_date|     ship_mode|customer_id|     product_id|   sales|quantity|discount|  profit|\n",
      "+----------+--------------+----------+----------+--------------+-----------+---------------+--------+--------+--------+--------+\n",
      "|         1|CA-2016-152156|2016-11-08|2016-11-11|  Second Class|   CG-12520|FUR-BO-10001798|  261.96|       2|     0.0| 41.9136|\n",
      "|         2|CA-2016-152156|2016-11-08|2016-11-11|  Second Class|   CG-12520|FUR-CH-10000454|  731.94|       3|     0.0| 219.582|\n",
      "|         3|CA-2016-138688|2016-06-12|2016-06-16|  Second Class|   DV-13045|OFF-LA-10000240|   14.62|       2|     0.0|  6.8714|\n",
      "|         4|US-2015-108966|2015-10-11|2015-10-18|Standard Class|   SO-20335|FUR-TA-10000577|957.5775|       5|    0.45|-383.031|\n",
      "|         5|US-2015-108966|2015-10-11|2015-10-18|Standard Class|   SO-20335|OFF-ST-10000760|  22.368|       2|     0.2|  2.5164|\n",
      "+----------+--------------+----------+----------+--------------+-----------+---------------+--------+--------+--------+--------+\n",
      "only showing top 5 rows\n",
      "\n"
     ]
    }
   ],
   "source": [
    "df_sale.show(5)"
   ]
  },
  {
   "cell_type": "code",
   "execution_count": 0,
   "metadata": {
    "application/vnd.databricks.v1+cell": {
     "cellMetadata": {
      "byteLimit": 2048000,
      "rowLimit": 10000
     },
     "inputWidgets": {},
     "nuid": "6105f74c-9864-474e-b71d-d21a53211058",
     "showTitle": false,
     "tableResultSettingsMap": {},
     "title": ""
    }
   },
   "outputs": [
    {
     "name": "stdout",
     "output_type": "stream",
     "text": [
      "root\n",
      " |-- order_line: integer (nullable = true)\n",
      " |-- order_id: string (nullable = true)\n",
      " |-- order_date: date (nullable = true)\n",
      " |-- ship_date: date (nullable = true)\n",
      " |-- ship_mode: string (nullable = true)\n",
      " |-- customer_id: string (nullable = true)\n",
      " |-- product_id: string (nullable = true)\n",
      " |-- sales: double (nullable = true)\n",
      " |-- quantity: integer (nullable = true)\n",
      " |-- discount: double (nullable = true)\n",
      " |-- profit: double (nullable = true)\n",
      "\n"
     ]
    }
   ],
   "source": [
    "df_sale.printSchema()"
   ]
  },
  {
   "cell_type": "code",
   "execution_count": 0,
   "metadata": {
    "application/vnd.databricks.v1+cell": {
     "cellMetadata": {
      "byteLimit": 2048000,
      "rowLimit": 10000
     },
     "inputWidgets": {},
     "nuid": "3e3472ae-6041-4eea-a0d9-3c81725675ab",
     "showTitle": false,
     "tableResultSettingsMap": {},
     "title": ""
    }
   },
   "outputs": [
    {
     "name": "stdout",
     "output_type": "stream",
     "text": [
      "root\n",
      " |-- product_id: string (nullable = true)\n",
      " |-- category: string (nullable = true)\n",
      " |-- sub-category: string (nullable = true)\n",
      " |-- product_name: string (nullable = true)\n",
      "\n"
     ]
    }
   ],
   "source": [
    "df_products.printSchema()"
   ]
  },
  {
   "cell_type": "code",
   "execution_count": 0,
   "metadata": {
    "application/vnd.databricks.v1+cell": {
     "cellMetadata": {
      "byteLimit": 2048000,
      "rowLimit": 10000
     },
     "inputWidgets": {},
     "nuid": "f16c9f26-03ea-4cee-a417-539b80220b91",
     "showTitle": false,
     "tableResultSettingsMap": {},
     "title": ""
    }
   },
   "outputs": [
    {
     "name": "stdout",
     "output_type": "stream",
     "text": [
      "root\n",
      " |-- customer_id: string (nullable = true)\n",
      " |-- customer_name: string (nullable = true)\n",
      " |-- segment: string (nullable = true)\n",
      " |-- age: integer (nullable = true)\n",
      " |-- country: string (nullable = true)\n",
      " |-- city: string (nullable = true)\n",
      " |-- state: string (nullable = true)\n",
      " |-- postal_code: integer (nullable = true)\n",
      " |-- region: string (nullable = true)\n",
      "\n"
     ]
    }
   ],
   "source": [
    "df_customers.printSchema()"
   ]
  },
  {
   "cell_type": "code",
   "execution_count": 0,
   "metadata": {
    "application/vnd.databricks.v1+cell": {
     "cellMetadata": {
      "byteLimit": 2048000,
      "rowLimit": 10000
     },
     "inputWidgets": {},
     "nuid": "ab51d078-e94b-4537-820c-53289bb8792a",
     "showTitle": false,
     "tableResultSettingsMap": {},
     "title": ""
    }
   },
   "outputs": [
    {
     "name": "stdout",
     "output_type": "stream",
     "text": [
      "+-----------+---------------+----------+--------------+----------+----------+--------------+--------+--------+--------+--------+---------------+------------+--------------------+---------------+---------+---+-------------+---------------+----------+-----------+------+\n",
      "|customer_id|     product_id|order_line|      order_id|order_date| ship_date|     ship_mode|   sales|quantity|discount|  profit|       category|sub-category|        product_name|  customer_name|  segment|age|      country|           city|     state|postal_code|region|\n",
      "+-----------+---------------+----------+--------------+----------+----------+--------------+--------+--------+--------+--------+---------------+------------+--------------------+---------------+---------+---+-------------+---------------+----------+-----------+------+\n",
      "|   CG-12520|FUR-BO-10001798|         1|CA-2016-152156|2016-11-08|2016-11-11|  Second Class|  261.96|       2|     0.0| 41.9136|      Furniture|   Bookcases|Bush Somerset Col...|    Claire Gute| Consumer| 67|United States|      Henderson|  Kentucky|      42420| South|\n",
      "|   CG-12520|FUR-CH-10000454|         2|CA-2016-152156|2016-11-08|2016-11-11|  Second Class|  731.94|       3|     0.0| 219.582|      Furniture|      Chairs|Hon Deluxe Fabric...|    Claire Gute| Consumer| 67|United States|      Henderson|  Kentucky|      42420| South|\n",
      "|   DV-13045|OFF-LA-10000240|         3|CA-2016-138688|2016-06-12|2016-06-16|  Second Class|   14.62|       2|     0.0|  6.8714|Office Supplies|      Labels|Self-Adhesive Add...|Darrin Van Huff|Corporate| 31|United States|    Los Angeles|California|      90036|  West|\n",
      "|   SO-20335|FUR-TA-10000577|         4|US-2015-108966|2015-10-11|2015-10-18|Standard Class|957.5775|       5|    0.45|-383.031|      Furniture|      Tables|Bretford CR4500 S...| Sean O'Donnell| Consumer| 65|United States|Fort Lauderdale|   Florida|      33311| South|\n",
      "|   SO-20335|OFF-ST-10000760|         5|US-2015-108966|2015-10-11|2015-10-18|Standard Class|  22.368|       2|     0.2|  2.5164|Office Supplies|     Storage|Eldon Fold N Roll...| Sean O'Donnell| Consumer| 65|United States|Fort Lauderdale|   Florida|      33311| South|\n",
      "+-----------+---------------+----------+--------------+----------+----------+--------------+--------+--------+--------+--------+---------------+------------+--------------------+---------------+---------+---+-------------+---------------+----------+-----------+------+\n",
      "only showing top 5 rows\n",
      "\n"
     ]
    }
   ],
   "source": [
    "# Join sales with product data\n",
    "df_sales_product = df_sales.join(df_products, on=\"product_id\", how=\"left\")\n",
    "\n",
    "# Join the result with customer data\n",
    "df_final = df_sales_product.join(df_customers, on=\"customer_id\", how=\"left\")\n",
    "\n",
    "# Show final integrated dataset\n",
    "df_final.show(5)\n"
   ]
  },
  {
   "cell_type": "markdown",
   "metadata": {
    "application/vnd.databricks.v1+cell": {
     "cellMetadata": {},
     "inputWidgets": {},
     "nuid": "c8378905-2b01-46d6-a328-d270442c718b",
     "showTitle": false,
     "tableResultSettingsMap": {},
     "title": ""
    }
   },
   "source": [
    "#1. Total Sales for Each Product Category"
   ]
  },
  {
   "cell_type": "code",
   "execution_count": 0,
   "metadata": {
    "application/vnd.databricks.v1+cell": {
     "cellMetadata": {
      "byteLimit": 2048000,
      "rowLimit": 10000
     },
     "inputWidgets": {},
     "nuid": "9eb5ac25-266c-4652-890b-d5d6d99f00ab",
     "showTitle": false,
     "tableResultSettingsMap": {},
     "title": ""
    }
   },
   "outputs": [
    {
     "name": "stdout",
     "output_type": "stream",
     "text": [
      "+---------------+------------------+\n",
      "|       category|       total_sales|\n",
      "+---------------+------------------+\n",
      "|     Technology|4080261.5249999864|\n",
      "|      Furniture|3859215.2288999907|\n",
      "|Office Supplies| 3548585.318000002|\n",
      "+---------------+------------------+\n",
      "\n"
     ]
    }
   ],
   "source": [
    "df_final.groupBy(\"category\") \\\n",
    "    .agg(sum(col(\"quantity\") * col(\"sales\")).alias(\"total_sales\")) \\\n",
    "    .orderBy(col(\"total_sales\").desc()) \\\n",
    "    .show()\n"
   ]
  },
  {
   "cell_type": "markdown",
   "metadata": {
    "application/vnd.databricks.v1+cell": {
     "cellMetadata": {},
     "inputWidgets": {},
     "nuid": "40f98493-0d1f-4b7d-9e53-b082c7efb191",
     "showTitle": false,
     "tableResultSettingsMap": {},
     "title": ""
    }
   },
   "source": [
    "#2.Which customer has made the highest number of purchases?"
   ]
  },
  {
   "cell_type": "code",
   "execution_count": 0,
   "metadata": {
    "application/vnd.databricks.v1+cell": {
     "cellMetadata": {
      "byteLimit": 2048000,
      "rowLimit": 10000
     },
     "inputWidgets": {},
     "nuid": "4fd02c63-e1a0-421f-81e2-25a596258123",
     "showTitle": false,
     "tableResultSettingsMap": {},
     "title": ""
    }
   },
   "outputs": [
    {
     "name": "stdout",
     "output_type": "stream",
     "text": [
      "+----------------+---------------+\n",
      "|   customer_name|total_purchases|\n",
      "+----------------+---------------+\n",
      "|Jonathan Doherty|            150|\n",
      "+----------------+---------------+\n",
      "\n"
     ]
    }
   ],
   "source": [
    "df_final.groupBy(\"customer_name\") \\\n",
    "    .agg(sum(\"quantity\").alias(\"total_purchases\")) \\\n",
    "    .orderBy(col(\"total_purchases\").desc()) \\\n",
    "    .limit(1) \\\n",
    "    .show()\n"
   ]
  },
  {
   "cell_type": "markdown",
   "metadata": {
    "application/vnd.databricks.v1+cell": {
     "cellMetadata": {},
     "inputWidgets": {},
     "nuid": "79e9a2bd-80d2-4e2b-a4f1-5805352b9da2",
     "showTitle": false,
     "tableResultSettingsMap": {},
     "title": ""
    }
   },
   "source": [
    "#3.What is the average discount given on sales across all products?"
   ]
  },
  {
   "cell_type": "code",
   "execution_count": 0,
   "metadata": {
    "application/vnd.databricks.v1+cell": {
     "cellMetadata": {
      "byteLimit": 2048000,
      "rowLimit": 10000
     },
     "inputWidgets": {},
     "nuid": "a12c003e-3ed2-4b72-abec-a9ebe7a8af8f",
     "showTitle": false,
     "tableResultSettingsMap": {},
     "title": ""
    }
   },
   "outputs": [
    {
     "name": "stdout",
     "output_type": "stream",
     "text": [
      "+-------------------+\n",
      "|   average_discount|\n",
      "+-------------------+\n",
      "|0.15620272163298934|\n",
      "+-------------------+\n",
      "\n"
     ]
    }
   ],
   "source": [
    "from pyspark.sql.functions import avg\n",
    "df_final.agg(avg(\"discount\").alias(\"average_discount\")).show()"
   ]
  },
  {
   "cell_type": "markdown",
   "metadata": {
    "application/vnd.databricks.v1+cell": {
     "cellMetadata": {},
     "inputWidgets": {},
     "nuid": "d5f49113-d44a-44fb-8b35-0261a8990fa3",
     "showTitle": false,
     "tableResultSettingsMap": {},
     "title": ""
    }
   },
   "source": [
    "#4.How many unique products were sold in each region?"
   ]
  },
  {
   "cell_type": "code",
   "execution_count": 0,
   "metadata": {
    "application/vnd.databricks.v1+cell": {
     "cellMetadata": {
      "byteLimit": 2048000,
      "rowLimit": 10000
     },
     "inputWidgets": {},
     "nuid": "5d32ed0d-bff5-4ba1-8c02-f211f7a0343e",
     "showTitle": false,
     "tableResultSettingsMap": {},
     "title": ""
    }
   },
   "outputs": [
    {
     "name": "stdout",
     "output_type": "stream",
     "text": [
      "+-------+--------------------+\n",
      "| region|unique_products_sold|\n",
      "+-------+--------------------+\n",
      "|  South|                1059|\n",
      "|Central|                1316|\n",
      "|   East|                1408|\n",
      "|   West|                1536|\n",
      "+-------+--------------------+\n",
      "\n"
     ]
    }
   ],
   "source": [
    "from pyspark.sql.functions import countDistinct\n",
    "\n",
    "df_final.groupBy(\"region\") \\\n",
    "    .agg(countDistinct(\"product_id\").alias(\"unique_products_sold\")) \\\n",
    "    .show()\n"
   ]
  },
  {
   "cell_type": "markdown",
   "metadata": {
    "application/vnd.databricks.v1+cell": {
     "cellMetadata": {},
     "inputWidgets": {},
     "nuid": "7689d8df-5203-42e4-984d-45e4fef23850",
     "showTitle": false,
     "tableResultSettingsMap": {},
     "title": ""
    }
   },
   "source": [
    "#5.What is the total profit generated in each state?"
   ]
  },
  {
   "cell_type": "code",
   "execution_count": 0,
   "metadata": {
    "application/vnd.databricks.v1+cell": {
     "cellMetadata": {
      "byteLimit": 2048000,
      "rowLimit": 10000
     },
     "inputWidgets": {},
     "nuid": "3fa6f072-184b-4ce3-acaa-168f5bbbf3b8",
     "showTitle": false,
     "tableResultSettingsMap": {},
     "title": ""
    }
   },
   "outputs": [
    {
     "name": "stdout",
     "output_type": "stream",
     "text": [
      "+-------------+------------------+\n",
      "|        state|      total_profit|\n",
      "+-------------+------------------+\n",
      "|   California| 59398.31250000002|\n",
      "|     New York|58177.834100000066|\n",
      "|   Washington|24405.796599999983|\n",
      "|        Texas| 20528.91100000002|\n",
      "| Pennsylvania|13604.935000000007|\n",
      "|      Georgia|12781.342599999998|\n",
      "|      Arizona| 9563.200100000004|\n",
      "|     Illinois| 9560.145599999993|\n",
      "|    Wisconsin| 8569.869700000003|\n",
      "|     Michigan|7752.2969000000085|\n",
      "|    Minnesota| 7202.522500000001|\n",
      "|     Virginia| 6940.111200000005|\n",
      "|         Ohio| 5985.887000000001|\n",
      "|Massachusetts|         5905.5446|\n",
      "|     Kentucky| 4513.313999999998|\n",
      "|    Tennessee| 3434.276499999999|\n",
      "|     Delaware| 3336.382700000002|\n",
      "|      Alabama|         2845.0624|\n",
      "|      Indiana| 2707.349500000002|\n",
      "|    Louisiana|         2659.2401|\n",
      "+-------------+------------------+\n",
      "only showing top 20 rows\n",
      "\n"
     ]
    }
   ],
   "source": [
    "df_final.groupBy(\"state\") \\\n",
    "    .agg(sum(\"profit\").alias(\"total_profit\")) \\\n",
    "    .orderBy(col(\"total_profit\").desc()) \\\n",
    "    .show()\n"
   ]
  },
  {
   "cell_type": "markdown",
   "metadata": {
    "application/vnd.databricks.v1+cell": {
     "cellMetadata": {},
     "inputWidgets": {},
     "nuid": "4259bf96-f14f-47fe-9c2d-60846f22289a",
     "showTitle": false,
     "tableResultSettingsMap": {},
     "title": ""
    }
   },
   "source": [
    "#6.Which product sub-category has the highest sales?"
   ]
  },
  {
   "cell_type": "code",
   "execution_count": 0,
   "metadata": {
    "application/vnd.databricks.v1+cell": {
     "cellMetadata": {
      "byteLimit": 2048000,
      "rowLimit": 10000
     },
     "inputWidgets": {},
     "nuid": "a597ca4a-7fd9-43af-b7c4-a493b89bacc8",
     "showTitle": false,
     "tableResultSettingsMap": {},
     "title": ""
    }
   },
   "outputs": [
    {
     "name": "stdout",
     "output_type": "stream",
     "text": [
      "+------------+----------------+\n",
      "|sub-category|total_units_sold|\n",
      "+------------+----------------+\n",
      "|     Binders|            5974|\n",
      "+------------+----------------+\n",
      "\n"
     ]
    }
   ],
   "source": [
    "df_final.groupBy(\"sub-category\") \\\n",
    "    .agg(sum(\"quantity\").alias(\"total_units_sold\")) \\\n",
    "    .orderBy(col(\"total_units_sold\").desc()) \\\n",
    "    .limit(1) \\\n",
    "    .show()\n"
   ]
  },
  {
   "cell_type": "markdown",
   "metadata": {
    "application/vnd.databricks.v1+cell": {
     "cellMetadata": {},
     "inputWidgets": {},
     "nuid": "e548db40-265e-4e4b-b9c9-70f4dcc81f54",
     "showTitle": false,
     "tableResultSettingsMap": {},
     "title": ""
    }
   },
   "source": [
    "#7.What is the average age of customers in each segment?"
   ]
  },
  {
   "cell_type": "code",
   "execution_count": 0,
   "metadata": {
    "application/vnd.databricks.v1+cell": {
     "cellMetadata": {
      "byteLimit": 2048000,
      "rowLimit": 10000
     },
     "inputWidgets": {},
     "nuid": "1ffc66aa-ee8e-47f3-ae8b-226a1cd0a101",
     "showTitle": false,
     "tableResultSettingsMap": {},
     "title": ""
    }
   },
   "outputs": [
    {
     "name": "stdout",
     "output_type": "stream",
     "text": [
      "+-----------+------------------+\n",
      "|    segment|       average_age|\n",
      "+-----------+------------------+\n",
      "|   Consumer| 44.60585628973223|\n",
      "|Home Office| 43.28210880538418|\n",
      "|  Corporate|44.816556291390725|\n",
      "+-----------+------------------+\n",
      "\n"
     ]
    }
   ],
   "source": [
    "df_final.groupBy(\"segment\") \\\n",
    "    .agg(avg(\"age\").alias(\"average_age\")) \\\n",
    "    .show()\n"
   ]
  },
  {
   "cell_type": "markdown",
   "metadata": {
    "application/vnd.databricks.v1+cell": {
     "cellMetadata": {},
     "inputWidgets": {},
     "nuid": "a3e09373-58aa-4cd7-95d0-b5215a2e7ac2",
     "showTitle": false,
     "tableResultSettingsMap": {},
     "title": ""
    }
   },
   "source": [
    "#8.How many orders were shipped in each shipping mode?"
   ]
  },
  {
   "cell_type": "code",
   "execution_count": 0,
   "metadata": {
    "application/vnd.databricks.v1+cell": {
     "cellMetadata": {
      "byteLimit": 2048000,
      "rowLimit": 10000
     },
     "inputWidgets": {},
     "nuid": "3ef9e595-ea61-4b10-97e9-6e6b94eea6ce",
     "showTitle": false,
     "tableResultSettingsMap": {},
     "title": ""
    }
   },
   "outputs": [
    {
     "name": "stdout",
     "output_type": "stream",
     "text": [
      "+--------------+--------------------+\n",
      "|     ship_mode|total_orders_shipped|\n",
      "+--------------+--------------------+\n",
      "|Standard Class|                5968|\n",
      "|  Second Class|                1945|\n",
      "|   First Class|                1538|\n",
      "|      Same Day|                 543|\n",
      "+--------------+--------------------+\n",
      "\n"
     ]
    }
   ],
   "source": [
    "from pyspark.sql.functions import count\n",
    "\n",
    "df_final.groupBy(\"ship_mode\") \\\n",
    "    .agg(count(\"*\").alias(\"total_orders_shipped\")) \\\n",
    "    .orderBy(col(\"total_orders_shipped\").desc()) \\\n",
    "    .show()\n"
   ]
  },
  {
   "cell_type": "markdown",
   "metadata": {
    "application/vnd.databricks.v1+cell": {
     "cellMetadata": {},
     "inputWidgets": {},
     "nuid": "5d318bda-ebf2-4d14-af6e-3639b25c4f00",
     "showTitle": false,
     "tableResultSettingsMap": {},
     "title": ""
    }
   },
   "source": [
    "#9.What is the total quantity of products sold in each city?"
   ]
  },
  {
   "cell_type": "code",
   "execution_count": 0,
   "metadata": {
    "application/vnd.databricks.v1+cell": {
     "cellMetadata": {
      "byteLimit": 2048000,
      "rowLimit": 10000
     },
     "inputWidgets": {},
     "nuid": "8c4adcdd-4963-4ca1-b1cd-9fbb4f4cdf43",
     "showTitle": false,
     "tableResultSettingsMap": {},
     "title": ""
    }
   },
   "outputs": [
    {
     "name": "stdout",
     "output_type": "stream",
     "text": [
      "+-------------+-------------------+\n",
      "|         city|total_quantity_sold|\n",
      "+-------------+-------------------+\n",
      "|New York City|               3217|\n",
      "|  Los Angeles|               2756|\n",
      "| Philadelphia|               2299|\n",
      "|San Francisco|               1773|\n",
      "|      Houston|               1425|\n",
      "|      Seattle|               1371|\n",
      "|      Chicago|               1153|\n",
      "|     Columbus|                854|\n",
      "|       Aurora|                611|\n",
      "|    San Diego|                609|\n",
      "|       Dallas|                602|\n",
      "| Jacksonville|                362|\n",
      "|      Detroit|                332|\n",
      "|  Springfield|                282|\n",
      "|    Rochester|                279|\n",
      "|    Charlotte|                275|\n",
      "|   Wilmington|                271|\n",
      "|       Tucson|                257|\n",
      "|      Phoenix|                256|\n",
      "|        Dover|                256|\n",
      "+-------------+-------------------+\n",
      "only showing top 20 rows\n",
      "\n"
     ]
    }
   ],
   "source": [
    "df_final.groupBy(\"city\") \\\n",
    "    .agg(sum(\"quantity\").alias(\"total_quantity_sold\")) \\\n",
    "    .orderBy(col(\"total_quantity_sold\").desc()) \\\n",
    "    .show()\n"
   ]
  },
  {
   "cell_type": "markdown",
   "metadata": {
    "application/vnd.databricks.v1+cell": {
     "cellMetadata": {},
     "inputWidgets": {},
     "nuid": "a6649824-15a7-46a7-9d38-273020a31a59",
     "showTitle": false,
     "tableResultSettingsMap": {},
     "title": ""
    }
   },
   "source": [
    "#10.Which customer segment has the highest profit margin?"
   ]
  },
  {
   "cell_type": "code",
   "execution_count": 0,
   "metadata": {
    "application/vnd.databricks.v1+cell": {
     "cellMetadata": {
      "byteLimit": 2048000,
      "rowLimit": 10000
     },
     "inputWidgets": {},
     "nuid": "efe71223-0450-47c8-ab88-69f0d337db85",
     "showTitle": false,
     "tableResultSettingsMap": {},
     "title": ""
    }
   },
   "outputs": [],
   "source": [
    "df_final = df_final.withColumn(\"price\", (col(\"sales\") / col(\"quantity\")))"
   ]
  },
  {
   "cell_type": "code",
   "execution_count": 0,
   "metadata": {
    "application/vnd.databricks.v1+cell": {
     "cellMetadata": {
      "byteLimit": 2048000,
      "rowLimit": 10000
     },
     "inputWidgets": {},
     "nuid": "39684fc5-b7c9-4127-b621-5812d76973ec",
     "showTitle": false,
     "tableResultSettingsMap": {},
     "title": ""
    }
   },
   "outputs": [
    {
     "name": "stdout",
     "output_type": "stream",
     "text": [
      "+-----------+---------------------+\n",
      "|    segment|average_profit_margin|\n",
      "+-----------+---------------------+\n",
      "|Home Office|  0.14286958506103364|\n",
      "|  Corporate|  0.12120260868746456|\n",
      "|   Consumer|   0.1120495213315656|\n",
      "+-----------+---------------------+\n",
      "\n"
     ]
    }
   ],
   "source": [
    "df_final.groupBy(\"segment\") \\\n",
    "    .agg(avg(col(\"profit\") / (col(\"quantity\") * col(\"price\"))).alias(\"average_profit_margin\")) \\\n",
    "    .orderBy(col(\"average_profit_margin\").desc()) \\\n",
    "    .show()"
   ]
  },
  {
   "cell_type": "code",
   "execution_count": 0,
   "metadata": {
    "application/vnd.databricks.v1+cell": {
     "cellMetadata": {},
     "inputWidgets": {},
     "nuid": "86aaf228-1eb1-4adc-a232-9d88ad86381a",
     "showTitle": false,
     "tableResultSettingsMap": {},
     "title": ""
    }
   },
   "outputs": [],
   "source": []
  }
 ],
 "metadata": {
  "application/vnd.databricks.v1+notebook": {
   "computePreferences": null,
   "dashboards": [],
   "environmentMetadata": {
    "base_environment": "",
    "client": "1"
   },
   "language": "python",
   "notebookMetadata": {
    "pythonIndentUnit": 4
   },
   "notebookName": "dmart_pyspark",
   "widgets": {}
  },
  "language_info": {
   "name": "python"
  }
 },
 "nbformat": 4,
 "nbformat_minor": 0
}
